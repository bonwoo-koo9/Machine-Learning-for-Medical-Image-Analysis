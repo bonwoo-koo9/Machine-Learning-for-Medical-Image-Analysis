{
  "cells": [
    {
      "cell_type": "code",
      "execution_count": null,
      "metadata": {
        "id": "01OdGhmjw3Mv"
      },
      "outputs": [],
      "source": [
        "# %%bash\n",
        "# git clone https://github.com/jeya-maria-jose/UNeXt-pytorch\n",
        "# cd UNeXt-pytorch\n",
        "\n",
        "# pip install -q condacolab\n",
        "\n",
        "!cp -r /content/drive/MyDrive/UNeXt-pytorch ./"
      ]
    },
    {
      "cell_type": "code",
      "execution_count": null,
      "metadata": {
        "colab": {
          "base_uri": "https://localhost:8080/"
        },
        "id": "N97hG6x_EQ5T",
        "outputId": "1d723b99-d731-440f-f83f-33733a42450a"
      },
      "outputs": [
        {
          "output_type": "stream",
          "name": "stdout",
          "text": [
            "mkdir: cannot create directory ‘./drive/MyDrive/dataset’: File exists\n"
          ]
        }
      ],
      "source": [
        "!mkdir ./drive/MyDrive/dataset\n",
        "!mkdir ./Dataset\n",
        "!tar -xf /content/drive/MyDrive/Task02_Heart.tar -C ./Dataset\n",
        "!mkdir data\n",
        "!mkdir data/train\n",
        "!mkdir data/train/image\n",
        "!mkdir data/train/label\n",
        "!mkdir data/test\n",
        "!mkdir data/test/image\n",
        "!mkdir data/test/label\n",
        "\n",
        "import os\n",
        "\n",
        "import nibabel as nib\n",
        "import matplotlib.pyplot as plt\n",
        "import matplotlib\n",
        "import numpy as np\n",
        "from glob import glob\n",
        "\n",
        "# Use 24, 26, 29, 30 dataset as test\n",
        "input_path = \"./Dataset/Task02_Heart/*Tr/\"\n",
        "\n",
        "testset_name = [\"la_024.nii.gz\", \"la_026.nii.gz\", \"la_029.nii.gz\", \"la_030.nii.gz\"]\n",
        "testset = [\"./Dataset/Task02_Heart/imagesTr/\" + data for data in testset_name]\n",
        "testset += [\"./Dataset/Task02_Heart/labelsTr/\" + data for data in testset_name]\n",
        "trainset = [data for data in glob(input_path + \"*.nii.gz\") if data not in testset]\n",
        "\n",
        "def save_png_from_nii(dataPath:list, train:bool):\n",
        "  path = \"./data/train/\" if train else \"./data/test/\"\n",
        "  for data in dataPath:\n",
        "    image = \"image/\" if \"images\" in data else \"label/\"\n",
        "    proxy = nib.load(data)\n",
        "    arr = proxy.get_fdata()\n",
        "    nii_image = nib.Nifti1Image(arr, proxy.affine, proxy.header)\n",
        "    data_number = int(data.split(\".\")[1][-3:])\n",
        "    count = arr.shape[2]\n",
        "    for i in range(count):\n",
        "      matplotlib.image.imsave(path + image + \"%d_%d.png\"%(data_number, i), arr[:,:,i])\n",
        "\n",
        "\n",
        "import os\n",
        "if not os.path.exists(\"./data/train/image/19_0.png\"):\n",
        "  save_png_from_nii(trainset, True)\n",
        "  save_png_from_nii(testset, False)"
      ]
    },
    {
      "cell_type": "code",
      "source": [
        "!mv ./data/train/label/* ./inputs/train/masks/0/"
      ],
      "metadata": {
        "id": "qodmv_mtQOpr",
        "colab": {
          "base_uri": "https://localhost:8080/"
        },
        "outputId": "f23f3a8e-a971-47bf-dce3-0b7013b2cc36"
      },
      "execution_count": null,
      "outputs": [
        {
          "output_type": "stream",
          "name": "stdout",
          "text": [
            "mv: target './inputs/train/masks/0/' is not a directory\n"
          ]
        }
      ]
    },
    {
      "cell_type": "code",
      "execution_count": null,
      "metadata": {
        "colab": {
          "base_uri": "https://localhost:8080/",
          "height": 1000
        },
        "id": "SBe4b6Hv8zs-",
        "outputId": "201c2a47-e6f9-4c8a-c962-68e9a6607506"
      },
      "outputs": [
        {
          "output_type": "stream",
          "name": "stdout",
          "text": [
            "/content/UNeXt-pytorch\n",
            "Collecting addict (from -r requirements.txt (line 1))\n",
            "  Downloading addict-2.4.0-py3-none-any.whl (3.8 kB)\n",
            "Collecting dataclasses (from -r requirements.txt (line 2))\n",
            "  Downloading dataclasses-0.6-py3-none-any.whl (14 kB)\n",
            "Requirement already satisfied: numpy in /usr/local/lib/python3.10/dist-packages (from -r requirements.txt (line 3)) (1.25.2)\n",
            "Requirement already satisfied: opencv-python in /usr/local/lib/python3.10/dist-packages (from -r requirements.txt (line 4)) (4.8.0.76)\n",
            "Collecting perceptual (from -r requirements.txt (line 5))\n",
            "  Downloading perceptual-0.1.tar.gz (5.6 kB)\n",
            "  Preparing metadata (setup.py) ... \u001b[?25l\u001b[?25hdone\n",
            "Requirement already satisfied: pillow in /usr/local/lib/python3.10/dist-packages (from -r requirements.txt (line 6)) (9.4.0)\n",
            "Requirement already satisfied: scikit-image in /usr/local/lib/python3.10/dist-packages (from -r requirements.txt (line 7)) (0.19.3)\n",
            "Requirement already satisfied: scipy in /usr/local/lib/python3.10/dist-packages (from -r requirements.txt (line 8)) (1.11.4)\n",
            "Requirement already satisfied: tifffile in /usr/local/lib/python3.10/dist-packages (from -r requirements.txt (line 9)) (2024.5.10)\n",
            "Collecting timm (from -r requirements.txt (line 10))\n",
            "  Downloading timm-1.0.3-py3-none-any.whl (2.3 MB)\n",
            "\u001b[2K     \u001b[90m━━━━━━━━━━━━━━━━━━━━━━━━━━━━━━━━━━━━━━━━\u001b[0m \u001b[32m2.3/2.3 MB\u001b[0m \u001b[31m56.3 MB/s\u001b[0m eta \u001b[36m0:00:00\u001b[0m\n",
            "\u001b[?25hRequirement already satisfied: torch in /usr/local/lib/python3.10/dist-packages (from -r requirements.txt (line 11)) (2.3.0+cu121)\n",
            "Requirement already satisfied: torchvision in /usr/local/lib/python3.10/dist-packages (from -r requirements.txt (line 12)) (0.18.0+cu121)\n",
            "Requirement already satisfied: typing-extensions in /usr/local/lib/python3.10/dist-packages (from -r requirements.txt (line 13)) (4.11.0)\n",
            "Collecting yapf (from -r requirements.txt (line 14))\n",
            "  Downloading yapf-0.40.2-py3-none-any.whl (254 kB)\n",
            "\u001b[2K     \u001b[90m━━━━━━━━━━━━━━━━━━━━━━━━━━━━━━━━━━━━━━━━\u001b[0m \u001b[32m254.7/254.7 kB\u001b[0m \u001b[31m35.0 MB/s\u001b[0m eta \u001b[36m0:00:00\u001b[0m\n",
            "\u001b[?25hRequirement already satisfied: networkx>=2.2 in /usr/local/lib/python3.10/dist-packages (from scikit-image->-r requirements.txt (line 7)) (3.3)\n",
            "Requirement already satisfied: imageio>=2.4.1 in /usr/local/lib/python3.10/dist-packages (from scikit-image->-r requirements.txt (line 7)) (2.31.6)\n",
            "Requirement already satisfied: PyWavelets>=1.1.1 in /usr/local/lib/python3.10/dist-packages (from scikit-image->-r requirements.txt (line 7)) (1.6.0)\n",
            "Requirement already satisfied: packaging>=20.0 in /usr/local/lib/python3.10/dist-packages (from scikit-image->-r requirements.txt (line 7)) (24.0)\n",
            "Requirement already satisfied: pyyaml in /usr/local/lib/python3.10/dist-packages (from timm->-r requirements.txt (line 10)) (6.0.1)\n",
            "Requirement already satisfied: huggingface_hub in /usr/local/lib/python3.10/dist-packages (from timm->-r requirements.txt (line 10)) (0.23.1)\n",
            "Requirement already satisfied: safetensors in /usr/local/lib/python3.10/dist-packages (from timm->-r requirements.txt (line 10)) (0.4.3)\n",
            "Requirement already satisfied: filelock in /usr/local/lib/python3.10/dist-packages (from torch->-r requirements.txt (line 11)) (3.14.0)\n",
            "Requirement already satisfied: sympy in /usr/local/lib/python3.10/dist-packages (from torch->-r requirements.txt (line 11)) (1.12)\n",
            "Requirement already satisfied: jinja2 in /usr/local/lib/python3.10/dist-packages (from torch->-r requirements.txt (line 11)) (3.1.4)\n",
            "Requirement already satisfied: fsspec in /usr/local/lib/python3.10/dist-packages (from torch->-r requirements.txt (line 11)) (2023.6.0)\n",
            "Collecting nvidia-cuda-nvrtc-cu12==12.1.105 (from torch->-r requirements.txt (line 11))\n",
            "  Using cached nvidia_cuda_nvrtc_cu12-12.1.105-py3-none-manylinux1_x86_64.whl (23.7 MB)\n",
            "Collecting nvidia-cuda-runtime-cu12==12.1.105 (from torch->-r requirements.txt (line 11))\n",
            "  Using cached nvidia_cuda_runtime_cu12-12.1.105-py3-none-manylinux1_x86_64.whl (823 kB)\n",
            "Collecting nvidia-cuda-cupti-cu12==12.1.105 (from torch->-r requirements.txt (line 11))\n",
            "  Using cached nvidia_cuda_cupti_cu12-12.1.105-py3-none-manylinux1_x86_64.whl (14.1 MB)\n",
            "Collecting nvidia-cudnn-cu12==8.9.2.26 (from torch->-r requirements.txt (line 11))\n",
            "  Using cached nvidia_cudnn_cu12-8.9.2.26-py3-none-manylinux1_x86_64.whl (731.7 MB)\n",
            "Collecting nvidia-cublas-cu12==12.1.3.1 (from torch->-r requirements.txt (line 11))\n",
            "  Using cached nvidia_cublas_cu12-12.1.3.1-py3-none-manylinux1_x86_64.whl (410.6 MB)\n",
            "Collecting nvidia-cufft-cu12==11.0.2.54 (from torch->-r requirements.txt (line 11))\n",
            "  Using cached nvidia_cufft_cu12-11.0.2.54-py3-none-manylinux1_x86_64.whl (121.6 MB)\n",
            "Collecting nvidia-curand-cu12==10.3.2.106 (from torch->-r requirements.txt (line 11))\n",
            "  Using cached nvidia_curand_cu12-10.3.2.106-py3-none-manylinux1_x86_64.whl (56.5 MB)\n",
            "Collecting nvidia-cusolver-cu12==11.4.5.107 (from torch->-r requirements.txt (line 11))\n",
            "  Using cached nvidia_cusolver_cu12-11.4.5.107-py3-none-manylinux1_x86_64.whl (124.2 MB)\n",
            "Collecting nvidia-cusparse-cu12==12.1.0.106 (from torch->-r requirements.txt (line 11))\n",
            "  Using cached nvidia_cusparse_cu12-12.1.0.106-py3-none-manylinux1_x86_64.whl (196.0 MB)\n",
            "Collecting nvidia-nccl-cu12==2.20.5 (from torch->-r requirements.txt (line 11))\n",
            "  Using cached nvidia_nccl_cu12-2.20.5-py3-none-manylinux2014_x86_64.whl (176.2 MB)\n",
            "Collecting nvidia-nvtx-cu12==12.1.105 (from torch->-r requirements.txt (line 11))\n",
            "  Using cached nvidia_nvtx_cu12-12.1.105-py3-none-manylinux1_x86_64.whl (99 kB)\n",
            "Requirement already satisfied: triton==2.3.0 in /usr/local/lib/python3.10/dist-packages (from torch->-r requirements.txt (line 11)) (2.3.0)\n",
            "Collecting nvidia-nvjitlink-cu12 (from nvidia-cusolver-cu12==11.4.5.107->torch->-r requirements.txt (line 11))\n",
            "  Downloading nvidia_nvjitlink_cu12-12.5.40-py3-none-manylinux2014_x86_64.whl (21.3 MB)\n",
            "\u001b[2K     \u001b[90m━━━━━━━━━━━━━━━━━━━━━━━━━━━━━━━━━━━━━━━━\u001b[0m \u001b[32m21.3/21.3 MB\u001b[0m \u001b[31m32.0 MB/s\u001b[0m eta \u001b[36m0:00:00\u001b[0m\n",
            "\u001b[?25hRequirement already satisfied: importlib-metadata>=6.6.0 in /usr/local/lib/python3.10/dist-packages (from yapf->-r requirements.txt (line 14)) (7.1.0)\n",
            "Requirement already satisfied: platformdirs>=3.5.1 in /usr/local/lib/python3.10/dist-packages (from yapf->-r requirements.txt (line 14)) (4.2.2)\n",
            "Requirement already satisfied: tomli>=2.0.1 in /usr/local/lib/python3.10/dist-packages (from yapf->-r requirements.txt (line 14)) (2.0.1)\n",
            "Requirement already satisfied: zipp>=0.5 in /usr/local/lib/python3.10/dist-packages (from importlib-metadata>=6.6.0->yapf->-r requirements.txt (line 14)) (3.18.2)\n",
            "Requirement already satisfied: requests in /usr/local/lib/python3.10/dist-packages (from huggingface_hub->timm->-r requirements.txt (line 10)) (2.31.0)\n",
            "Requirement already satisfied: tqdm>=4.42.1 in /usr/local/lib/python3.10/dist-packages (from huggingface_hub->timm->-r requirements.txt (line 10)) (4.66.4)\n",
            "Requirement already satisfied: MarkupSafe>=2.0 in /usr/local/lib/python3.10/dist-packages (from jinja2->torch->-r requirements.txt (line 11)) (2.1.5)\n",
            "Requirement already satisfied: mpmath>=0.19 in /usr/local/lib/python3.10/dist-packages (from sympy->torch->-r requirements.txt (line 11)) (1.3.0)\n",
            "Requirement already satisfied: charset-normalizer<4,>=2 in /usr/local/lib/python3.10/dist-packages (from requests->huggingface_hub->timm->-r requirements.txt (line 10)) (3.3.2)\n",
            "Requirement already satisfied: idna<4,>=2.5 in /usr/local/lib/python3.10/dist-packages (from requests->huggingface_hub->timm->-r requirements.txt (line 10)) (3.7)\n",
            "Requirement already satisfied: urllib3<3,>=1.21.1 in /usr/local/lib/python3.10/dist-packages (from requests->huggingface_hub->timm->-r requirements.txt (line 10)) (2.0.7)\n",
            "Requirement already satisfied: certifi>=2017.4.17 in /usr/local/lib/python3.10/dist-packages (from requests->huggingface_hub->timm->-r requirements.txt (line 10)) (2024.2.2)\n",
            "Building wheels for collected packages: perceptual\n",
            "  Building wheel for perceptual (setup.py) ... \u001b[?25l\u001b[?25hdone\n",
            "  Created wheel for perceptual: filename=perceptual-0.1-py2.py3-none-any.whl size=5620 sha256=de8d7b176c5756ac5046d1f811a665a8d5cb21bd229d46816a565fba9201004b\n",
            "  Stored in directory: /root/.cache/pip/wheels/8d/2c/4c/7fbe9795a820e3602e020192dc725bf676573e2bd70467e149\n",
            "Successfully built perceptual\n",
            "Installing collected packages: perceptual, dataclasses, addict, nvidia-nvtx-cu12, nvidia-nvjitlink-cu12, nvidia-nccl-cu12, nvidia-curand-cu12, nvidia-cufft-cu12, nvidia-cuda-runtime-cu12, nvidia-cuda-nvrtc-cu12, nvidia-cuda-cupti-cu12, nvidia-cublas-cu12, yapf, nvidia-cusparse-cu12, nvidia-cudnn-cu12, nvidia-cusolver-cu12, timm\n",
            "Successfully installed addict-2.4.0 dataclasses-0.6 nvidia-cublas-cu12-12.1.3.1 nvidia-cuda-cupti-cu12-12.1.105 nvidia-cuda-nvrtc-cu12-12.1.105 nvidia-cuda-runtime-cu12-12.1.105 nvidia-cudnn-cu12-8.9.2.26 nvidia-cufft-cu12-11.0.2.54 nvidia-curand-cu12-10.3.2.106 nvidia-cusolver-cu12-11.4.5.107 nvidia-cusparse-cu12-12.1.0.106 nvidia-nccl-cu12-2.20.5 nvidia-nvjitlink-cu12-12.5.40 nvidia-nvtx-cu12-12.1.105 perceptual-0.1 timm-1.0.3 yapf-0.40.2\n"
          ]
        },
        {
          "output_type": "display_data",
          "data": {
            "application/vnd.colab-display-data+json": {
              "pip_warning": {
                "packages": [
                  "dataclasses"
                ]
              },
              "id": "abd71d2cc4df458a93b560d63cbe9af0"
            }
          },
          "metadata": {}
        }
      ],
      "source": [
        "%cd UNeXt-pytorch\n",
        "\n",
        "test= \"addict\\n\\\n",
        "dataclasses\\n\\\n",
        "numpy\\n\\\n",
        "opencv-python\\n\\\n",
        "perceptual\\n\\\n",
        "pillow\\n\\\n",
        "scikit-image\\n\\\n",
        "scipy\\n\\\n",
        "tifffile\\n\\\n",
        "timm\\n\\\n",
        "torch\\n\\\n",
        "torchvision\\n\\\n",
        "typing-extensions\\n\\\n",
        "yapf\"\n",
        "\n",
        "open(\"./requirements.txt\", \"w\").write(test)\n",
        "\n",
        "\n",
        "\n",
        "!pip install -r requirements.txt"
      ]
    },
    {
      "cell_type": "code",
      "execution_count": null,
      "metadata": {
        "colab": {
          "base_uri": "https://localhost:8080/"
        },
        "id": "dpGPEbT93dYl",
        "outputId": "a0f59fec-e6f4-4a0d-b8a8-98bc89582666"
      },
      "outputs": [
        {
          "output_type": "stream",
          "name": "stdout",
          "text": [
            "[Errno 2] No such file or directory: 'UNeXt-pytorch'\n",
            "/content/UNeXt-pytorch\n",
            "mkdir: cannot create directory ‘/content/data/train/masks’: No such file or directory\n",
            "mkdir: cannot create directory ‘/content/data/train/masks/0’: No such file or directory\n",
            "mkdir: cannot create directory ‘/content/data/test/masks’: No such file or directory\n",
            "mkdir: cannot create directory ‘/content/data/test/masks/0’: No such file or directory\n",
            "mv: cannot stat '/content/data/train/image': No such file or directory\n",
            "mv: cannot stat '/content/data/train/label/*': No such file or directory\n",
            "mv: cannot stat '/content/data/test/image': No such file or directory\n",
            "mv: cannot stat '/content/data/test/label/*': No such file or directory\n",
            "mv: cannot stat '/content/data': No such file or directory\n"
          ]
        }
      ],
      "source": [
        "%cd UNeXt-pytorch\n",
        "!rm -rf ./inputs\n",
        "!mkdir /content/data/train/masks /content/data/train/masks/0\n",
        "!mkdir /content/data/test/masks /content/data/test/masks/0\n",
        "!mv /content/data/train/image /content/data/train/images\n",
        "!mv /content/data/train/label/* /content/data/train/masks/0\n",
        "!mv /content/data/test/image /content/data/test/images\n",
        "!mv /content/data/test/label/* /content/data/test/masks/0\n",
        "!mv /content/data /content/UNeXt-pytorch\n",
        "!mkdir ./inputs\n",
        "!mv ./data/train ./inputs\n",
        "!mv ./data/test ./inputs"
      ]
    },
    {
      "cell_type": "code",
      "execution_count": null,
      "metadata": {
        "colab": {
          "base_uri": "https://localhost:8080/"
        },
        "id": "E-R9So5AqomU",
        "outputId": "610538fc-1c2c-452f-b94a-e308144fec0c"
      },
      "outputs": [
        {
          "output_type": "stream",
          "name": "stdout",
          "text": [
            "mv: cannot stat './inputs/train/masks/0/label/*': No such file or directory\n",
            "mv: cannot stat './inputs/test/masks/0/*': No such file or directory\n"
          ]
        }
      ],
      "source": [
        "# !mv ./inputs/train/masks/0/label/* ./inputs/train/masks/0/\n",
        "# !mv ./inputs/test/masks/0/* ./inputs/train/masks/0/\n",
        "# !mv ./inputs/test/images/* ./inputs/train/images/"
      ]
    },
    {
      "cell_type": "code",
      "execution_count": null,
      "metadata": {
        "colab": {
          "base_uri": "https://localhost:8080/"
        },
        "id": "WTCAqdE94YNM",
        "outputId": "1567a89c-5b87-43fb-f1d3-26a8e21be57f"
      },
      "outputs": [
        {
          "output_type": "stream",
          "name": "stdout",
          "text": [
            "[Errno 2] No such file or directory: 'UNeXt-pytorch'\n",
            "/content/UNeXt-pytorch\n",
            "--------------------\n",
            "name: segment_unet\n",
            "epochs: 50\n",
            "batch_size: 16\n",
            "arch: UNet\n",
            "deep_supervision: False\n",
            "input_channels: 3\n",
            "num_classes: 1\n",
            "input_w: 256\n",
            "input_h: 256\n",
            "loss: BCEDiceLoss\n",
            "dataset: train\n",
            "img_ext: .png\n",
            "mask_ext: .png\n",
            "optimizer: Adam\n",
            "lr: 0.0001\n",
            "momentum: 0.9\n",
            "weight_decay: 0.0001\n",
            "nesterov: False\n",
            "scheduler: CosineAnnealingLR\n",
            "min_lr: 1e-05\n",
            "factor: 0.1\n",
            "patience: 2\n",
            "milestones: 1,2\n",
            "gamma: 0.6666666666666666\n",
            "early_stopping: -1\n",
            "cfg: None\n",
            "num_workers: 4\n",
            "--------------------\n",
            "--------------------\n",
            "Train dataset size : 1449, Valid dataset size : 363\n",
            "--------------------\n",
            "Epoch [0/50]\n",
            "100% 90/90 [00:37<00:00,  2.40it/s, loss=1.07, iou=0.196]\n",
            "100% 23/23 [00:04<00:00,  4.91it/s, loss=1.05, iou=2.53e-9, dice=5.07e-9]\n",
            "loss 1.0670 - iou 0.1958 - val_loss 1.0541 - val_iou 0.0000\n",
            "=> saved best model\n",
            "Epoch [1/50]\n",
            "100% 90/90 [00:28<00:00,  3.12it/s, loss=1.05, iou=0.374]\n",
            "100% 23/23 [00:02<00:00,  8.81it/s, loss=1.05, iou=0.337, dice=0.492]\n",
            "loss 1.0462 - iou 0.3740 - val_loss 1.0450 - val_iou 0.3374\n",
            "=> saved best model\n",
            "Epoch [2/50]\n",
            "100% 90/90 [00:29<00:00,  3.02it/s, loss=1.04, iou=0.456]\n",
            "100% 23/23 [00:02<00:00,  8.96it/s, loss=1.04, iou=0.539, dice=0.699]\n",
            "loss 1.0399 - iou 0.4562 - val_loss 1.0366 - val_iou 0.5388\n",
            "=> saved best model\n",
            "Epoch [3/50]\n",
            "100% 90/90 [00:29<00:00,  3.09it/s, loss=1.04, iou=0.506]\n",
            "100% 23/23 [00:02<00:00,  9.00it/s, loss=1.04, iou=0.301, dice=0.459]\n",
            "loss 1.0363 - iou 0.5063 - val_loss 1.0380 - val_iou 0.3005\n",
            "Epoch [4/50]\n",
            "100% 90/90 [00:29<00:00,  3.06it/s, loss=1.03, iou=0.543]\n",
            "100% 23/23 [00:02<00:00,  8.81it/s, loss=1.03, iou=0.355, dice=0.523]\n",
            "loss 1.0340 - iou 0.5434 - val_loss 1.0338 - val_iou 0.3553\n",
            "Epoch [5/50]\n",
            "100% 90/90 [00:29<00:00,  3.07it/s, loss=1.03, iou=0.587]\n",
            "100% 23/23 [00:02<00:00,  8.95it/s, loss=1.03, iou=0.727, dice=0.842]\n",
            "loss 1.0324 - iou 0.5871 - val_loss 1.0305 - val_iou 0.7274\n",
            "=> saved best model\n",
            "Epoch [6/50]\n",
            "100% 90/90 [00:29<00:00,  3.06it/s, loss=1.03, iou=0.598]\n",
            "100% 23/23 [00:02<00:00,  8.83it/s, loss=1.03, iou=0.675, dice=0.805]\n",
            "loss 1.0316 - iou 0.5980 - val_loss 1.0304 - val_iou 0.6754\n",
            "Epoch [7/50]\n",
            "100% 90/90 [00:29<00:00,  3.06it/s, loss=1.03, iou=0.619]\n",
            "100% 23/23 [00:02<00:00,  8.90it/s, loss=1.03, iou=0.724, dice=0.839]\n",
            "loss 1.0310 - iou 0.6193 - val_loss 1.0302 - val_iou 0.7239\n",
            "Epoch [8/50]\n",
            "100% 90/90 [00:29<00:00,  3.07it/s, loss=1.03, iou=0.625]\n",
            "100% 23/23 [00:02<00:00,  8.88it/s, loss=1.03, iou=0.651, dice=0.787]\n",
            "loss 1.0309 - iou 0.6251 - val_loss 1.0297 - val_iou 0.6505\n",
            "Epoch [9/50]\n",
            "100% 90/90 [00:29<00:00,  3.06it/s, loss=1.03, iou=0.637]\n",
            "100% 23/23 [00:02<00:00,  8.95it/s, loss=1.03, iou=0.753, dice=0.859]\n",
            "loss 1.0305 - iou 0.6371 - val_loss 1.0302 - val_iou 0.7534\n",
            "=> saved best model\n",
            "Epoch [10/50]\n",
            "100% 90/90 [00:29<00:00,  3.06it/s, loss=1.03, iou=0.664]\n",
            "100% 23/23 [00:02<00:00,  8.92it/s, loss=1.03, iou=0.727, dice=0.841]\n",
            "loss 1.0303 - iou 0.6639 - val_loss 1.0295 - val_iou 0.7268\n",
            "Epoch [11/50]\n",
            "100% 90/90 [00:29<00:00,  3.05it/s, loss=1.03, iou=0.688]\n",
            "100% 23/23 [00:02<00:00,  8.80it/s, loss=1.03, iou=0.743, dice=0.852]\n",
            "loss 1.0300 - iou 0.6881 - val_loss 1.0289 - val_iou 0.7428\n",
            "Epoch [12/50]\n",
            "100% 90/90 [00:29<00:00,  3.06it/s, loss=1.03, iou=0.694]\n",
            "100% 23/23 [00:02<00:00,  8.87it/s, loss=1.03, iou=0.764, dice=0.865]\n",
            "loss 1.0300 - iou 0.6937 - val_loss 1.0299 - val_iou 0.7637\n",
            "=> saved best model\n",
            "Epoch [13/50]\n",
            "100% 90/90 [00:29<00:00,  3.06it/s, loss=1.03, iou=0.682]\n",
            "100% 23/23 [00:02<00:00,  8.87it/s, loss=1.03, iou=0.746, dice=0.854]\n",
            "loss 1.0301 - iou 0.6825 - val_loss 1.0288 - val_iou 0.7462\n",
            "Epoch [14/50]\n",
            "100% 90/90 [00:29<00:00,  3.06it/s, loss=1.03, iou=0.707]\n",
            "100% 23/23 [00:02<00:00,  8.78it/s, loss=1.03, iou=0.639, dice=0.779]\n",
            "loss 1.0298 - iou 0.7069 - val_loss 1.0290 - val_iou 0.6393\n",
            "Epoch [15/50]\n",
            "100% 90/90 [00:29<00:00,  3.06it/s, loss=1.03, iou=0.708]\n",
            "100% 23/23 [00:02<00:00,  8.89it/s, loss=1.03, iou=0.811, dice=0.896]\n",
            "loss 1.0297 - iou 0.7078 - val_loss 1.0301 - val_iou 0.8115\n",
            "=> saved best model\n",
            "Epoch [16/50]\n",
            "100% 90/90 [00:29<00:00,  3.05it/s, loss=1.03, iou=0.714]\n",
            "100% 23/23 [00:02<00:00,  8.88it/s, loss=1.03, iou=0.785, dice=0.878]\n",
            "loss 1.0298 - iou 0.7141 - val_loss 1.0299 - val_iou 0.7849\n",
            "Epoch [17/50]\n",
            "100% 90/90 [00:29<00:00,  3.06it/s, loss=1.03, iou=0.687]\n",
            "100% 23/23 [00:02<00:00,  8.86it/s, loss=1.03, iou=0.781, dice=0.877]\n",
            "loss 1.0301 - iou 0.6875 - val_loss 1.0289 - val_iou 0.7813\n",
            "Epoch [18/50]\n",
            "100% 90/90 [00:29<00:00,  3.06it/s, loss=1.03, iou=0.706]\n",
            "100% 23/23 [00:02<00:00,  8.90it/s, loss=1.03, iou=0.783, dice=0.878]\n",
            "loss 1.0298 - iou 0.7056 - val_loss 1.0288 - val_iou 0.7830\n",
            "Epoch [19/50]\n",
            "100% 90/90 [00:29<00:00,  3.05it/s, loss=1.03, iou=0.729]\n",
            "100% 23/23 [00:02<00:00,  8.92it/s, loss=1.03, iou=0.803, dice=0.891]\n",
            "loss 1.0296 - iou 0.7294 - val_loss 1.0288 - val_iou 0.8034\n",
            "Epoch [20/50]\n",
            "100% 90/90 [00:29<00:00,  3.06it/s, loss=1.03, iou=0.743]\n",
            "100% 23/23 [00:02<00:00,  8.85it/s, loss=1.03, iou=0.787, dice=0.88]\n",
            "loss 1.0295 - iou 0.7426 - val_loss 1.0285 - val_iou 0.7868\n",
            "Epoch [21/50]\n",
            "100% 90/90 [00:29<00:00,  3.05it/s, loss=1.03, iou=0.748]\n",
            "100% 23/23 [00:02<00:00,  8.85it/s, loss=1.03, iou=0.77, dice=0.87]\n",
            "loss 1.0295 - iou 0.7479 - val_loss 1.0284 - val_iou 0.7703\n",
            "Epoch [22/50]\n",
            "100% 90/90 [00:29<00:00,  3.05it/s, loss=1.03, iou=0.751]\n",
            "100% 23/23 [00:02<00:00,  8.94it/s, loss=1.03, iou=0.764, dice=0.866]\n",
            "loss 1.0294 - iou 0.7507 - val_loss 1.0285 - val_iou 0.7644\n",
            "Epoch [23/50]\n",
            "100% 90/90 [00:29<00:00,  3.05it/s, loss=1.03, iou=0.755]\n",
            "100% 23/23 [00:02<00:00,  8.73it/s, loss=1.03, iou=0.773, dice=0.872]\n",
            "loss 1.0293 - iou 0.7552 - val_loss 1.0284 - val_iou 0.7730\n",
            "Epoch [24/50]\n",
            "100% 90/90 [00:29<00:00,  3.06it/s, loss=1.03, iou=0.749]\n",
            "100% 23/23 [00:02<00:00,  8.90it/s, loss=1.03, iou=0.79, dice=0.882]\n",
            "loss 1.0293 - iou 0.7493 - val_loss 1.0291 - val_iou 0.7905\n",
            "Epoch [25/50]\n",
            "100% 90/90 [00:29<00:00,  3.05it/s, loss=1.03, iou=0.743]\n",
            "100% 23/23 [00:02<00:00,  8.65it/s, loss=1.03, iou=0.79, dice=0.882]\n",
            "loss 1.0294 - iou 0.7428 - val_loss 1.0285 - val_iou 0.7902\n",
            "Epoch [26/50]\n",
            "100% 90/90 [00:29<00:00,  3.06it/s, loss=1.03, iou=0.772]\n",
            "100% 23/23 [00:02<00:00,  8.89it/s, loss=1.03, iou=0.81, dice=0.894]\n",
            "loss 1.0292 - iou 0.7724 - val_loss 1.0282 - val_iou 0.8097\n",
            "Epoch [27/50]\n",
            "100% 90/90 [00:29<00:00,  3.06it/s, loss=1.03, iou=0.776]\n",
            "100% 23/23 [00:02<00:00,  8.86it/s, loss=1.03, iou=0.781, dice=0.877]\n",
            "loss 1.0291 - iou 0.7759 - val_loss 1.0282 - val_iou 0.7814\n",
            "Epoch [28/50]\n",
            "100% 90/90 [00:29<00:00,  3.06it/s, loss=1.03, iou=0.775]\n",
            "100% 23/23 [00:02<00:00,  8.96it/s, loss=1.03, iou=0.807, dice=0.893]\n",
            "loss 1.0291 - iou 0.7752 - val_loss 1.0281 - val_iou 0.8071\n",
            "Epoch [29/50]\n",
            "100% 90/90 [00:29<00:00,  3.05it/s, loss=1.03, iou=0.785]\n",
            "100% 23/23 [00:02<00:00,  8.63it/s, loss=1.03, iou=0.817, dice=0.899]\n",
            "loss 1.0290 - iou 0.7846 - val_loss 1.0281 - val_iou 0.8174\n",
            "=> saved best model\n",
            "Epoch [30/50]\n",
            "100% 90/90 [00:29<00:00,  3.06it/s, loss=1.03, iou=0.79]\n",
            "100% 23/23 [00:02<00:00,  8.82it/s, loss=1.03, iou=0.837, dice=0.911]\n",
            "loss 1.0290 - iou 0.7896 - val_loss 1.0281 - val_iou 0.8373\n",
            "=> saved best model\n",
            "Epoch [31/50]\n",
            "100% 90/90 [00:29<00:00,  3.06it/s, loss=1.03, iou=0.78]\n",
            "100% 23/23 [00:02<00:00,  8.88it/s, loss=1.03, iou=0.824, dice=0.903]\n",
            "loss 1.0291 - iou 0.7804 - val_loss 1.0280 - val_iou 0.8242\n",
            "Epoch [32/50]\n",
            "100% 90/90 [00:29<00:00,  3.05it/s, loss=1.03, iou=0.793]\n",
            "100% 23/23 [00:02<00:00,  8.75it/s, loss=1.03, iou=0.794, dice=0.885]\n",
            "loss 1.0289 - iou 0.7929 - val_loss 1.0280 - val_iou 0.7944\n",
            "Epoch [33/50]\n",
            "100% 90/90 [00:29<00:00,  3.06it/s, loss=1.03, iou=0.794]\n",
            "100% 23/23 [00:02<00:00,  8.91it/s, loss=1.03, iou=0.862, dice=0.925]\n",
            "loss 1.0289 - iou 0.7941 - val_loss 1.0281 - val_iou 0.8615\n",
            "=> saved best model\n",
            "Epoch [34/50]\n",
            "100% 90/90 [00:29<00:00,  3.05it/s, loss=1.03, iou=0.795]\n",
            "100% 23/23 [00:02<00:00,  8.90it/s, loss=1.03, iou=0.833, dice=0.909]\n",
            "loss 1.0289 - iou 0.7954 - val_loss 1.0281 - val_iou 0.8334\n",
            "Epoch [35/50]\n",
            "100% 90/90 [00:29<00:00,  3.05it/s, loss=1.03, iou=0.796]\n",
            "100% 23/23 [00:02<00:00,  8.68it/s, loss=1.03, iou=0.847, dice=0.917]\n",
            "loss 1.0289 - iou 0.7962 - val_loss 1.0280 - val_iou 0.8469\n",
            "Epoch [36/50]\n",
            "100% 90/90 [00:29<00:00,  3.06it/s, loss=1.03, iou=0.809]\n",
            "100% 23/23 [00:02<00:00,  8.85it/s, loss=1.03, iou=0.84, dice=0.913]\n",
            "loss 1.0287 - iou 0.8095 - val_loss 1.0279 - val_iou 0.8399\n",
            "Epoch [37/50]\n",
            "100% 90/90 [00:29<00:00,  3.06it/s, loss=1.03, iou=0.809]\n",
            "100% 23/23 [00:02<00:00,  8.79it/s, loss=1.03, iou=0.782, dice=0.877]\n",
            "loss 1.0288 - iou 0.8089 - val_loss 1.0280 - val_iou 0.7815\n",
            "Epoch [38/50]\n",
            "100% 90/90 [00:29<00:00,  3.05it/s, loss=1.03, iou=0.814]\n",
            "100% 23/23 [00:02<00:00,  8.86it/s, loss=1.03, iou=0.82, dice=0.901]\n",
            "loss 1.0288 - iou 0.8138 - val_loss 1.0278 - val_iou 0.8197\n",
            "Epoch [39/50]\n",
            "100% 90/90 [00:29<00:00,  3.06it/s, loss=1.03, iou=0.812]\n",
            "100% 23/23 [00:02<00:00,  8.86it/s, loss=1.03, iou=0.857, dice=0.923]\n",
            "loss 1.0287 - iou 0.8117 - val_loss 1.0278 - val_iou 0.8569\n",
            "Epoch [40/50]\n",
            "100% 90/90 [00:29<00:00,  3.05it/s, loss=1.03, iou=0.817]\n",
            "100% 23/23 [00:02<00:00,  8.79it/s, loss=1.03, iou=0.838, dice=0.912]\n",
            "loss 1.0287 - iou 0.8168 - val_loss 1.0278 - val_iou 0.8385\n",
            "Epoch [41/50]\n",
            "100% 90/90 [00:29<00:00,  3.05it/s, loss=1.03, iou=0.821]\n",
            "100% 23/23 [00:02<00:00,  8.87it/s, loss=1.03, iou=0.843, dice=0.914]\n",
            "loss 1.0287 - iou 0.8209 - val_loss 1.0278 - val_iou 0.8425\n",
            "Epoch [42/50]\n",
            "100% 90/90 [00:29<00:00,  3.05it/s, loss=1.03, iou=0.827]\n",
            "100% 23/23 [00:02<00:00,  8.89it/s, loss=1.03, iou=0.839, dice=0.912]\n",
            "loss 1.0287 - iou 0.8268 - val_loss 1.0277 - val_iou 0.8390\n",
            "Epoch [43/50]\n",
            "100% 90/90 [00:29<00:00,  3.05it/s, loss=1.03, iou=0.829]\n",
            "100% 23/23 [00:02<00:00,  8.84it/s, loss=1.03, iou=0.859, dice=0.924]\n",
            "loss 1.0287 - iou 0.8288 - val_loss 1.0277 - val_iou 0.8589\n",
            "Epoch [44/50]\n",
            "100% 90/90 [00:29<00:00,  3.05it/s, loss=1.03, iou=0.833]\n",
            "100% 23/23 [00:02<00:00,  8.87it/s, loss=1.03, iou=0.865, dice=0.927]\n",
            "loss 1.0286 - iou 0.8332 - val_loss 1.0277 - val_iou 0.8648\n",
            "=> saved best model\n",
            "Epoch [45/50]\n",
            "100% 90/90 [00:29<00:00,  3.06it/s, loss=1.03, iou=0.837]\n",
            "100% 23/23 [00:02<00:00,  8.88it/s, loss=1.03, iou=0.843, dice=0.915]\n",
            "loss 1.0286 - iou 0.8370 - val_loss 1.0276 - val_iou 0.8432\n",
            "Epoch [46/50]\n",
            "100% 90/90 [00:29<00:00,  3.05it/s, loss=1.03, iou=0.839]\n",
            "100% 23/23 [00:02<00:00,  8.96it/s, loss=1.03, iou=0.861, dice=0.925]\n",
            "loss 1.0286 - iou 0.8387 - val_loss 1.0277 - val_iou 0.8613\n",
            "Epoch [47/50]\n",
            "100% 90/90 [00:29<00:00,  3.05it/s, loss=1.03, iou=0.837]\n",
            "100% 23/23 [00:02<00:00,  8.75it/s, loss=1.03, iou=0.873, dice=0.932]\n",
            "loss 1.0286 - iou 0.8366 - val_loss 1.0277 - val_iou 0.8730\n",
            "=> saved best model\n",
            "Epoch [48/50]\n",
            "100% 90/90 [00:29<00:00,  3.05it/s, loss=1.03, iou=0.843]\n",
            "100% 23/23 [00:02<00:00,  8.90it/s, loss=1.03, iou=0.833, dice=0.909]\n",
            "loss 1.0285 - iou 0.8433 - val_loss 1.0276 - val_iou 0.8328\n",
            "Epoch [49/50]\n",
            "100% 90/90 [00:29<00:00,  3.05it/s, loss=1.03, iou=0.841]\n",
            "100% 23/23 [00:02<00:00,  8.74it/s, loss=1.03, iou=0.879, dice=0.935]\n",
            "loss 1.0285 - iou 0.8413 - val_loss 1.0278 - val_iou 0.8789\n",
            "=> saved best model\n",
            "Total Train time : 1614.468410730362s.\n"
          ]
        }
      ],
      "source": [
        "%cd UNeXt-pytorch\n",
        "!python train.py --dataset train --arch UNet --name segment_unet --img_ext .png --mask_ext .png --lr 0.0001 --epochs 50 --input_w 256 --input_h 256 --b 16"
      ]
    },
    {
      "cell_type": "code",
      "execution_count": null,
      "metadata": {
        "id": "hrMCsl0Ntt6X",
        "colab": {
          "base_uri": "https://localhost:8080/"
        },
        "outputId": "4e389f4c-a50f-4652-d903-625bdeb593ec"
      },
      "outputs": [
        {
          "output_type": "stream",
          "name": "stdout",
          "text": [
            "[Errno 2] No such file or directory: 'UNeXt-pytorch'\n",
            "/content/UNeXt-pytorch\n",
            "--------------------\n",
            "arch: UNet\n",
            "batch_size: 16\n",
            "cfg: None\n",
            "dataset: test\n",
            "deep_supervision: False\n",
            "early_stopping: -1\n",
            "epochs: 50\n",
            "factor: 0.1\n",
            "gamma: 0.6666666666666666\n",
            "img_ext: .png\n",
            "input_channels: 3\n",
            "input_h: 256\n",
            "input_w: 256\n",
            "loss: BCEDiceLoss\n",
            "lr: 0.0001\n",
            "mask_ext: .png\n",
            "milestones: 1,2\n",
            "min_lr: 1e-05\n",
            "momentum: 0.9\n",
            "name: segment_unet\n",
            "nesterov: False\n",
            "num_classes: 1\n",
            "num_workers: 4\n",
            "optimizer: Adam\n",
            "patience: 2\n",
            "scheduler: CosineAnnealingLR\n",
            "weight_decay: 0.0001\n",
            "--------------------\n",
            "=> creating model UNet\n",
            "100% 29/29 [00:08<00:00,  3.44it/s]\n",
            "IoU: 0.8052\n",
            "Dice: 0.8915\n"
          ]
        }
      ],
      "source": [
        "%cd UNeXt-pytorch\n",
        "!python val.py --name segment_unet"
      ]
    },
    {
      "cell_type": "code",
      "source": [
        "import csv\n",
        "import numpy as np\n",
        "import pandas as pd\n",
        "import matplotlib.pyplot as plt\n",
        "\n",
        "unext = pd.read_csv(\"./models/segment/log.csv\")\n",
        "unet = pd.read_csv(\"./models/segment_unet/log.csv\")\n",
        "\n",
        "unext_training = unext['loss']\n",
        "unet_training = unet['loss']\n",
        "unext_val = unext['val_loss']\n",
        "unet_val = unet['val_loss']\n",
        "\n",
        "x = np.linspace(0, 50, 50)\n",
        "\n",
        "fig = plt.figure()\n",
        "plt.title(\"Training Losses for Segmentation\")\n",
        "plt.plot(x, unext_training)\n",
        "plt.plot(x, unet_training)\n",
        "plt.xlabel('Epochs')\n",
        "plt.ylabel('Loss')\n",
        "plt.legend(('UNeXt - Train','UNet - Train'))\n",
        "\n",
        "\n",
        "fig2 = plt.figure()\n",
        "plt.title(\"Validation Losses for Segmentation\")\n",
        "plt.plot(x, unext_val)\n",
        "plt.plot(x, unet_val)\n",
        "plt.xlabel('Epochs')\n",
        "plt.ylabel('Loss')\n",
        "plt.legend(('UNeXt - Val','UNet - Val'))"
      ],
      "metadata": {
        "colab": {
          "base_uri": "https://localhost:8080/",
          "height": 945
        },
        "id": "AR5wPry4cMXb",
        "outputId": "ece0ee2b-8e02-41ac-ce4d-b2686316de94"
      },
      "execution_count": null,
      "outputs": [
        {
          "output_type": "execute_result",
          "data": {
            "text/plain": [
              "<matplotlib.legend.Legend at 0x7d78133e0940>"
            ]
          },
          "metadata": {},
          "execution_count": 21
        },
        {
          "output_type": "display_data",
          "data": {
            "text/plain": [
              "<Figure size 640x480 with 1 Axes>"
            ],
            "image/png": "[encoded data removed]"
          },
          "metadata": {}
        },
        {
          "output_type": "display_data",
          "data": {
            "text/plain": [
              "<Figure size 640x480 with 1 Axes>"
            ],
            "image/png": "[encoded data removed]"
          },
          "metadata": {}
        }
      ]
    },
    {
      "cell_type": "code",
      "source": [
        "from PIL import Image\n",
        "import matplotlib.pyplot as plt\n",
        "\n",
        "img = Image.open(\"./outputs/segment/0/24_83.jpg\").convert(\"L\")\n",
        "plt.imshow(img)"
      ],
      "metadata": {
        "colab": {
          "base_uri": "https://localhost:8080/",
          "height": 453
        },
        "id": "K7Zk8cCbfnqh",
        "outputId": "034d1749-0351-43ce-f8ef-cd750dfdb82b"
      },
      "execution_count": null,
      "outputs": [
        {
          "output_type": "execute_result",
          "data": {
            "text/plain": [
              "<matplotlib.image.AxesImage at 0x7d7826ec2a10>"
            ]
          },
          "metadata": {},
          "execution_count": 17
        },
        {
          "output_type": "display_data",
          "data": {
            "text/plain": [
              "<Figure size 640x480 with 1 Axes>"
            ],
            "image/png": "[encoded data removed]"
          },
          "metadata": {}
        }
      ]
    },
    {
      "cell_type": "code",
      "source": [
        "!ls ./inputs/test/masks/0/ | wc -l"
      ],
      "metadata": {
        "id": "8f86rJ9IOfGf",
        "colab": {
          "base_uri": "https://localhost:8080/"
        },
        "outputId": "8f630890-9f42-41f1-d66b-ad607c85cf00"
      },
      "execution_count": null,
      "outputs": [
        {
          "output_type": "stream",
          "name": "stdout",
          "text": [
            "459\n"
          ]
        }
      ]
    },
    {
      "cell_type": "code",
      "execution_count": null,
      "metadata": {
        "id": "qL2c0PjZs8fY"
      },
      "outputs": [],
      "source": [
        "!mkdir /content/drive/MyDrive/UNeXt-pytorch\n",
        "!cp -r ./models/segment /content/drive/MyDrive/UNeXt-pytorch/models"
      ]
    },
    {
      "cell_type": "code",
      "execution_count": null,
      "metadata": {
        "id": "DixzQpgcEh5g"
      },
      "outputs": [],
      "source": [
        "!cp -r ./ /content/drive/MyDrive/UNeXt-pytorch/"
      ]
    }
  ],
  "metadata": {
    "accelerator": "GPU",
    "colab": {
      "gpuType": "T4",
      "machine_shape": "hm",
      "provenance": []
    },
    "kernelspec": {
      "display_name": "Python 3",
      "name": "python3"
    },
    "language_info": {
      "name": "python"
    }
  },
  "nbformat": 4,
  "nbformat_minor": 0
}